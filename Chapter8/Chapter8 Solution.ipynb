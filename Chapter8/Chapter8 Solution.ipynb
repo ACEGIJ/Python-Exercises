{
 "cells": [
  {
   "cell_type": "markdown",
   "id": "eeabb98f",
   "metadata": {},
   "source": [
    "# Chapter8 Solution"
   ]
  },
  {
   "cell_type": "markdown",
   "id": "6ba49e1c",
   "metadata": {},
   "source": [
    "## 1. 주어진 반지름을 이용하여 원의 넓이와 둘레를 계산하는 Circle 클래스를 작성하세요."
   ]
  },
  {
   "cell_type": "code",
   "execution_count": 10,
   "id": "855f4c1d",
   "metadata": {},
   "outputs": [],
   "source": [
    "import math\n",
    "class Circle:\n",
    "    def calculate_area(self,radius):\n",
    "        return math.pi * radius**2\n",
    "\n",
    "    def calculate_circumference(self,radius):\n",
    "        return 2 * math.pi * radius"
   ]
  },
  {
   "cell_type": "code",
   "execution_count": 14,
   "id": "fdd0c538",
   "metadata": {},
   "outputs": [
    {
     "name": "stdout",
     "output_type": "stream",
     "text": [
      "78.53981633974483\n",
      "31.41592653589793\n"
     ]
    }
   ],
   "source": [
    "#test\n",
    "r = 5\n",
    "circle = Circle()\n",
    "print(circle.calculate_area(r))\n",
    "print(circle.calculate_circumference(r))"
   ]
  },
  {
   "cell_type": "markdown",
   "id": "f6a005b4",
   "metadata": {},
   "source": [
    "## 2. 사칙연산을 수행하는 Calculator 클래스를 작성하세요."
   ]
  },
  {
   "cell_type": "code",
   "execution_count": 16,
   "id": "ba361be3",
   "metadata": {},
   "outputs": [],
   "source": [
    "class Calculator:\n",
    "    def add(self, a, b):\n",
    "        return a + b\n",
    "\n",
    "    def subtract(self, a, b):\n",
    "        return a - b\n",
    "\n",
    "    def multiply(self, a, b):\n",
    "        return a * b\n",
    "\n",
    "    def divide(self, a, b):\n",
    "        if b != 0:\n",
    "            return a / b\n",
    "        else:\n",
    "            return \"x\""
   ]
  },
  {
   "cell_type": "code",
   "execution_count": 17,
   "id": "1ad3a684",
   "metadata": {},
   "outputs": [
    {
     "name": "stdout",
     "output_type": "stream",
     "text": [
      "14\n",
      "6\n",
      "40\n",
      "2.5\n"
     ]
    }
   ],
   "source": [
    "#test\n",
    "calculator = Calculator()\n",
    "a = 10\n",
    "b = 4\n",
    "print(calculator.add(a,b))\n",
    "print(calculator.subtract(a,b))\n",
    "print(calculator.multiply(a,b))\n",
    "print(calculator.divide(a,b))"
   ]
  },
  {
   "cell_type": "markdown",
   "id": "e9c1cef2",
   "metadata": {},
   "source": [
    "## 3. 입출금이 가능한 통장을 만드는 BankAccount 클래스를 작성하세요."
   ]
  },
  {
   "cell_type": "code",
   "execution_count": 19,
   "id": "af95d453",
   "metadata": {},
   "outputs": [],
   "source": [
    "class BankAccount:\n",
    "    def __init__(self, balance=0):\n",
    "        self.balance = balance\n",
    "\n",
    "    def deposit(self, amount):\n",
    "        self.balance += amount\n",
    "        return f\"입금 : {amount}. 잔액 : {self.balance}\"\n",
    "\n",
    "    def withdraw(self, amount):\n",
    "        if amount <= self.balance:\n",
    "            self.balance -= amount\n",
    "            return f\"출금 {amount}. 잔액: {self.balance}\"\n",
    "        else:\n",
    "            return \"잔액부족.\""
   ]
  },
  {
   "cell_type": "code",
   "execution_count": 21,
   "id": "5570c5d0",
   "metadata": {},
   "outputs": [
    {
     "name": "stdout",
     "output_type": "stream",
     "text": [
      "입금 : 10000. 잔액 : 10000\n",
      "출금 5000. 잔액: 5000\n",
      "잔액부족.\n"
     ]
    }
   ],
   "source": [
    "bankAccount = BankAccount()\n",
    "print(bankAccount.deposit(10000))\n",
    "print(bankAccount.withdraw(5000))\n",
    "print(bankAccount.withdraw(10000))"
   ]
  },
  {
   "cell_type": "markdown",
   "id": "c97c13b8",
   "metadata": {},
   "source": [
    "## 4. To-Do 리스트를 나타내는 ToDoList 클래스를 작성하세요."
   ]
  },
  {
   "cell_type": "code",
   "execution_count": 28,
   "id": "a13bf8b5",
   "metadata": {},
   "outputs": [],
   "source": [
    "class ToDoList:\n",
    "    def __init__(self):\n",
    "        self.tasks = []\n",
    "\n",
    "    def add_task(self, task):\n",
    "        self.tasks.append(task)\n",
    "        return f\"일정 '{task}'이(가) to-do 리스트에 추가되었습니다.\"\n",
    "\n",
    "    def view_tasks(self):\n",
    "        if self.tasks:\n",
    "            return \"\\n\".join(self.tasks)\n",
    "        else:\n",
    "            return \"to-do 리스트에 일정이 없습니다.\""
   ]
  },
  {
   "cell_type": "code",
   "execution_count": 30,
   "id": "4f9429c6",
   "metadata": {
    "scrolled": true
   },
   "outputs": [
    {
     "name": "stdout",
     "output_type": "stream",
     "text": [
      "to-do 리스트에 일정이 없습니다.\n",
      "일정 '자기개발'이(가) to-do 리스트에 추가되었습니다.\n",
      "일정 '점심'이(가) to-do 리스트에 추가되었습니다.\n",
      "자기개발\n",
      "점심\n"
     ]
    }
   ],
   "source": [
    "toDoList = ToDoList()\n",
    "print(toDoList.view_tasks())\n",
    "print(toDoList.add_task('자기개발'))\n",
    "print(toDoList.add_task('점심'))\n",
    "print(toDoList.view_tasks())"
   ]
  },
  {
   "cell_type": "code",
   "execution_count": null,
   "id": "56124f4a",
   "metadata": {},
   "outputs": [],
   "source": []
  }
 ],
 "metadata": {
  "kernelspec": {
   "display_name": "Python 3 (ipykernel)",
   "language": "python",
   "name": "python3"
  },
  "language_info": {
   "codemirror_mode": {
    "name": "ipython",
    "version": 3
   },
   "file_extension": ".py",
   "mimetype": "text/x-python",
   "name": "python",
   "nbconvert_exporter": "python",
   "pygments_lexer": "ipython3",
   "version": "3.9.7"
  }
 },
 "nbformat": 4,
 "nbformat_minor": 5
}
