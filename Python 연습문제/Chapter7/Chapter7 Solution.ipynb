{
 "cells": [
  {
   "cell_type": "markdown",
   "id": "95dd5c7f",
   "metadata": {},
   "source": [
    "# Chapter7 Solution"
   ]
  },
  {
   "cell_type": "markdown",
   "id": "75b5d15d",
   "metadata": {},
   "source": [
    "## 1.파일 생성과 쓰기:\n",
    "\n",
    "### 사용자로부터 텍스트를 입력받아, 그 내용을 텍스트 파일에 저장하는 프로그램을 작성하세요."
   ]
  },
  {
   "cell_type": "code",
   "execution_count": 9,
   "id": "4a6496bd",
   "metadata": {},
   "outputs": [
    {
     "name": "stdout",
     "output_type": "stream",
     "text": [
      "파일에 저장할 내용을 입력하세요: Hello World\n"
     ]
    }
   ],
   "source": [
    "user_input = input(\"파일에 저장할 내용을 입력하세요: \")\n",
    "\n",
    "with open(\"output.txt\", \"w\") as file:\n",
    "    file.write(user_input)"
   ]
  },
  {
   "cell_type": "markdown",
   "id": "9ef192eb",
   "metadata": {},
   "source": [
    "## 2. 파일 읽기와 출력:\n",
    "\n",
    "### 텍스트 파일에 저장된 내용을 읽어와서 화면에 출력하는 프로그램을 작성하세요."
   ]
  },
  {
   "cell_type": "code",
   "execution_count": 10,
   "id": "5aaa7c82",
   "metadata": {},
   "outputs": [
    {
     "name": "stdout",
     "output_type": "stream",
     "text": [
      "파일 내용:\n",
      "Hello World\n"
     ]
    }
   ],
   "source": [
    "with open(\"output.txt\", \"r\") as file:\n",
    "    file_content = file.read()\n",
    "    print(\"파일 내용:\")\n",
    "    print(file_content)"
   ]
  },
  {
   "cell_type": "markdown",
   "id": "4cf73b75",
   "metadata": {},
   "source": [
    "## 3. 파일 추가 쓰기:\n",
    "\n",
    "### 기존 파일에 새로운 텍스트를 추가하여 저장하는 프로그램을 작성하세요."
   ]
  },
  {
   "cell_type": "code",
   "execution_count": 11,
   "id": "d8818672",
   "metadata": {},
   "outputs": [
    {
     "name": "stdout",
     "output_type": "stream",
     "text": [
      "추가로 파일에 저장할 내용을 입력하세요:  Hello Python\n"
     ]
    }
   ],
   "source": [
    "new_content = input(\"추가로 파일에 저장할 내용을 입력하세요: \")\n",
    "\n",
    "with open(\"output.txt\", \"a\") as file:\n",
    "    file.write(new_content)"
   ]
  },
  {
   "cell_type": "markdown",
   "id": "3d4d6018",
   "metadata": {},
   "source": [
    "## 4. 파일에서 특정 단어 찾기:\n",
    "\n",
    "### 사용자로부터 찾을 단어를 입력받고, 파일에서 그 단어가 몇 번 나오는지를 출력하는 프로그램을 작성하세요."
   ]
  },
  {
   "cell_type": "code",
   "execution_count": 12,
   "id": "fcb6ffc3",
   "metadata": {},
   "outputs": [
    {
     "name": "stdout",
     "output_type": "stream",
     "text": [
      "찾을 단어를 입력하세요: Hello\n",
      "파일에서 'Hello' 단어의 출현 횟수: 2\n"
     ]
    }
   ],
   "source": [
    "target_word = input(\"찾을 단어를 입력하세요: \")\n",
    "\n",
    "with open(\"output.txt\", \"r\") as file:\n",
    "    file_content = file.read()\n",
    "    word_count = file_content.count(target_word)\n",
    "    print(f\"파일에서 '{target_word}' 단어의 출현 횟수: {word_count}\")"
   ]
  },
  {
   "cell_type": "markdown",
   "id": "7ad5b64c",
   "metadata": {},
   "source": [
    "## 5.파일 복사:\n",
    "\n",
    "### 하나의 텍스트 파일을 다른 이름의 텍스트 파일로 복사하는 프로그램을 작성하세요."
   ]
  },
  {
   "cell_type": "code",
   "execution_count": 13,
   "id": "3f58e078",
   "metadata": {},
   "outputs": [
    {
     "name": "stdout",
     "output_type": "stream",
     "text": [
      "복사할 파일 이름을 입력하세요: output.txt\n",
      "복사된 파일 이름을 입력하세요: output2.txt\n"
     ]
    }
   ],
   "source": [
    "source_file_name = input(\"복사할 파일 이름을 입력하세요: \")\n",
    "destination_file_name = input(\"복사된 파일 이름을 입력하세요: \")\n",
    "\n",
    "with open(source_file_name, \"r\") as source_file:\n",
    "    source_content = source_file.read()\n",
    "\n",
    "    with open(destination_file_name, \"w\") as destination_file:\n",
    "        destination_file.write(source_content)"
   ]
  },
  {
   "cell_type": "code",
   "execution_count": null,
   "id": "fa765ecb",
   "metadata": {},
   "outputs": [],
   "source": []
  }
 ],
 "metadata": {
  "kernelspec": {
   "display_name": "Python 3 (ipykernel)",
   "language": "python",
   "name": "python3"
  },
  "language_info": {
   "codemirror_mode": {
    "name": "ipython",
    "version": 3
   },
   "file_extension": ".py",
   "mimetype": "text/x-python",
   "name": "python",
   "nbconvert_exporter": "python",
   "pygments_lexer": "ipython3",
   "version": "3.9.7"
  }
 },
 "nbformat": 4,
 "nbformat_minor": 5
}
