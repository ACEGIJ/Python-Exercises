{
 "cells": [
  {
   "cell_type": "markdown",
   "id": "eeabb98f",
   "metadata": {},
   "source": [
    "# Chapter8"
   ]
  },
  {
   "cell_type": "markdown",
   "id": "6ba49e1c",
   "metadata": {},
   "source": [
    "## 1. 주어진 반지름을 이용하여 원의 넓이와 둘레를 계산하는 Circle 클래스를 작성하세요."
   ]
  },
  {
   "cell_type": "code",
   "execution_count": 10,
   "id": "855f4c1d",
   "metadata": {},
   "outputs": [],
   "source": [
    "import math\n",
    "class Circle:\n",
    "    def calculate_area(self,radius):\n",
    "        ...\n",
    "\n",
    "    def calculate_circumference(self,radius):\n",
    "        ..."
   ]
  },
  {
   "cell_type": "code",
   "execution_count": 14,
   "id": "fdd0c538",
   "metadata": {},
   "outputs": [
    {
     "name": "stdout",
     "output_type": "stream",
     "text": [
      "78.53981633974483\n",
      "31.41592653589793\n"
     ]
    }
   ],
   "source": [
    "#test\n",
    "r = 5\n",
    "circle = Circle()\n",
    "print(circle.calculate_area(r))\n",
    "print(circle.calculate_circumference(r))"
   ]
  },
  {
   "cell_type": "markdown",
   "id": "f6a005b4",
   "metadata": {},
   "source": [
    "## 2. 사칙연산을 수행하는 Calculator 클래스를 작성하세요."
   ]
  },
  {
   "cell_type": "code",
   "execution_count": 16,
   "id": "ba361be3",
   "metadata": {},
   "outputs": [],
   "source": [
    "class Calculator:\n",
    "    ..."
   ]
  },
  {
   "cell_type": "code",
   "execution_count": 17,
   "id": "1ad3a684",
   "metadata": {},
   "outputs": [
    {
     "name": "stdout",
     "output_type": "stream",
     "text": [
      "14\n",
      "6\n",
      "40\n",
      "2.5\n"
     ]
    }
   ],
   "source": [
    "#test\n",
    "calculator = Calculator()\n",
    "a = 10\n",
    "b = 4\n",
    "print(calculator.add(a,b))\n",
    "print(calculator.subtract(a,b))\n",
    "print(calculator.multiply(a,b))\n",
    "print(calculator.divide(a,b))"
   ]
  },
  {
   "cell_type": "markdown",
   "id": "e9c1cef2",
   "metadata": {},
   "source": [
    "## 3. 입출금이 가능한 통장을 만드는 BankAccount 클래스를 작성하세요."
   ]
  },
  {
   "cell_type": "code",
   "execution_count": 19,
   "id": "af95d453",
   "metadata": {},
   "outputs": [],
   "source": [
    "class BankAccount:\n",
    "    ..."
   ]
  },
  {
   "cell_type": "code",
   "execution_count": 21,
   "id": "5570c5d0",
   "metadata": {},
   "outputs": [
    {
     "name": "stdout",
     "output_type": "stream",
     "text": [
      "입금 : 10000. 잔액 : 10000\n",
      "출금 5000. 잔액: 5000\n",
      "잔액부족.\n"
     ]
    }
   ],
   "source": [
    "#test\n",
    "bankAccount = BankAccount()\n",
    "print(bankAccount.deposit(10000))\n",
    "print(bankAccount.withdraw(5000))\n",
    "print(bankAccount.withdraw(10000))"
   ]
  },
  {
   "cell_type": "markdown",
   "id": "c97c13b8",
   "metadata": {},
   "source": [
    "## 4. To-Do 리스트를 나타내는 ToDoList 클래스를 작성하세요."
   ]
  },
  {
   "cell_type": "code",
   "execution_count": 28,
   "id": "a13bf8b5",
   "metadata": {},
   "outputs": [],
   "source": [
    "class ToDoList:\n",
    "    ..."
   ]
  },
  {
   "cell_type": "code",
   "execution_count": 1,
   "id": "4f9429c6",
   "metadata": {
    "scrolled": true
   },
   "outputs": [
    {
     "ename": "NameError",
     "evalue": "name 'ToDoList' is not defined",
     "output_type": "error",
     "traceback": [
      "\u001b[1;31m---------------------------------------------------------------------------\u001b[0m",
      "\u001b[1;31mNameError\u001b[0m                                 Traceback (most recent call last)",
      "\u001b[1;32m~\\AppData\\Local\\Temp/ipykernel_30384/2059306299.py\u001b[0m in \u001b[0;36m<module>\u001b[1;34m\u001b[0m\n\u001b[0;32m      1\u001b[0m \u001b[1;31m#test\u001b[0m\u001b[1;33m\u001b[0m\u001b[1;33m\u001b[0m\u001b[0m\n\u001b[1;32m----> 2\u001b[1;33m \u001b[0mtoDoList\u001b[0m \u001b[1;33m=\u001b[0m \u001b[0mToDoList\u001b[0m\u001b[1;33m(\u001b[0m\u001b[1;33m)\u001b[0m\u001b[1;33m\u001b[0m\u001b[1;33m\u001b[0m\u001b[0m\n\u001b[0m\u001b[0;32m      3\u001b[0m \u001b[0mprint\u001b[0m\u001b[1;33m(\u001b[0m\u001b[0mtoDoList\u001b[0m\u001b[1;33m.\u001b[0m\u001b[0mview_tasks\u001b[0m\u001b[1;33m(\u001b[0m\u001b[1;33m)\u001b[0m\u001b[1;33m)\u001b[0m\u001b[1;33m\u001b[0m\u001b[1;33m\u001b[0m\u001b[0m\n\u001b[0;32m      4\u001b[0m \u001b[0mprint\u001b[0m\u001b[1;33m(\u001b[0m\u001b[0mtoDoList\u001b[0m\u001b[1;33m.\u001b[0m\u001b[0madd_task\u001b[0m\u001b[1;33m(\u001b[0m\u001b[1;34m'자기개발'\u001b[0m\u001b[1;33m)\u001b[0m\u001b[1;33m)\u001b[0m\u001b[1;33m\u001b[0m\u001b[1;33m\u001b[0m\u001b[0m\n\u001b[0;32m      5\u001b[0m \u001b[0mprint\u001b[0m\u001b[1;33m(\u001b[0m\u001b[0mtoDoList\u001b[0m\u001b[1;33m.\u001b[0m\u001b[0madd_task\u001b[0m\u001b[1;33m(\u001b[0m\u001b[1;34m'점심'\u001b[0m\u001b[1;33m)\u001b[0m\u001b[1;33m)\u001b[0m\u001b[1;33m\u001b[0m\u001b[1;33m\u001b[0m\u001b[0m\n",
      "\u001b[1;31mNameError\u001b[0m: name 'ToDoList' is not defined"
     ]
    }
   ],
   "source": [
    "#test\n",
    "toDoList = ToDoList()\n",
    "print(toDoList.view_tasks())\n",
    "print(toDoList.add_task('자기개발'))\n",
    "print(toDoList.add_task('점심'))\n",
    "print(toDoList.view_tasks())"
   ]
  },
  {
   "cell_type": "code",
   "execution_count": null,
   "id": "56124f4a",
   "metadata": {},
   "outputs": [],
   "source": []
  }
 ],
 "metadata": {
  "kernelspec": {
   "display_name": "Python 3 (ipykernel)",
   "language": "python",
   "name": "python3"
  },
  "language_info": {
   "codemirror_mode": {
    "name": "ipython",
    "version": 3
   },
   "file_extension": ".py",
   "mimetype": "text/x-python",
   "name": "python",
   "nbconvert_exporter": "python",
   "pygments_lexer": "ipython3",
   "version": "3.9.7"
  }
 },
 "nbformat": 4,
 "nbformat_minor": 5
}
