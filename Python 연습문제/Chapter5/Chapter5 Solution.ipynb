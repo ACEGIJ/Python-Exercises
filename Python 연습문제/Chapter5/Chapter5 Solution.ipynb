{
 "cells": [
  {
   "cell_type": "markdown",
   "id": "22ed9b7e",
   "metadata": {},
   "source": [
    "# Chapter5 Solution"
   ]
  },
  {
   "cell_type": "markdown",
   "id": "3fa51b49",
   "metadata": {},
   "source": [
    "## 1. 대문자와 소문자 변환:\n",
    "\n",
    "### 사용자로부터 문자열을 입력받아, 대문자는 소문자로, 소문자는 대문자로 변환하여 출력하는 프로그램을 작성하세요."
   ]
  },
  {
   "cell_type": "code",
   "execution_count": 1,
   "id": "d6b5a1f5",
   "metadata": {},
   "outputs": [
    {
     "name": "stdout",
     "output_type": "stream",
     "text": [
      "문자열을 입력하세요: Hello World!\n",
      "변환된 문자열: hELLO wORLD!\n"
     ]
    }
   ],
   "source": [
    "input_str = input(\"문자열을 입력하세요: \")\n",
    "result_str = input_str.swapcase()\n",
    "print(\"변환된 문자열:\", result_str)"
   ]
  },
  {
   "cell_type": "markdown",
   "id": "43e0613c",
   "metadata": {},
   "source": [
    "## 2. 단어 개수 세기:\n",
    "\n",
    "### 사용자로부터 문장을 입력받아 그 안에 포함된 단어의 개수를 세고 출력하는 프로그램을 작성하세요."
   ]
  },
  {
   "cell_type": "code",
   "execution_count": 2,
   "id": "7484e1f1",
   "metadata": {},
   "outputs": [
    {
     "name": "stdout",
     "output_type": "stream",
     "text": [
      "문장을 입력하세요: Hello World!\n",
      "단어 개수: 2\n"
     ]
    }
   ],
   "source": [
    "input_sentence = input(\"문장을 입력하세요: \")\n",
    "word_count = len(input_sentence.split())\n",
    "print(\"단어 개수:\", word_count)"
   ]
  },
  {
   "cell_type": "markdown",
   "id": "119086ec",
   "metadata": {},
   "source": [
    "## 3. 문자열 중복 제거:\n",
    "\n",
    "### 사용자로부터 문자열을 입력받아, 중복된 문자를 제거한 새로운 문자열을 출력하는 프로그램을 작성하세요."
   ]
  },
  {
   "cell_type": "code",
   "execution_count": 4,
   "id": "3fb855a5",
   "metadata": {},
   "outputs": [
    {
     "name": "stdout",
     "output_type": "stream",
     "text": [
      "문자열을 입력하세요: abracadabra\n",
      "중복 제거된 문자열: ardbc\n"
     ]
    }
   ],
   "source": [
    "input_str = input(\"문자열을 입력하세요: \")\n",
    "unique_chars = ''.join(set(input_str))\n",
    "print(\"중복 제거된 문자열:\", unique_chars)"
   ]
  },
  {
   "cell_type": "markdown",
   "id": "c910422f",
   "metadata": {},
   "source": [
    "## 4. 문자열 거꾸로 출력:\n",
    "\n",
    "### 사용자로부터 문자열을 입력받아, 그 문자열을 거꾸로 출력하는 프로그램을 작성하세요."
   ]
  },
  {
   "cell_type": "code",
   "execution_count": 5,
   "id": "ffca369b",
   "metadata": {},
   "outputs": [
    {
     "name": "stdout",
     "output_type": "stream",
     "text": [
      "문자열을 입력하세요: HelloWorld\n",
      "거꾸로 출력된 문자열: dlroWolleH\n"
     ]
    }
   ],
   "source": [
    "input_str = input(\"문자열을 입력하세요: \")\n",
    "reversed_str = input_str[::-1]\n",
    "print(\"거꾸로 출력된 문자열:\", reversed_str)"
   ]
  },
  {
   "cell_type": "markdown",
   "id": "2dac227e",
   "metadata": {},
   "source": [
    "## 5. 문자열 자르기:\n",
    "\n",
    "### 사용자로부터 문장과 자를 길이를 입력받아, 입력받은 길이마다 문장을 잘라서 출력하는 프로그램을 작성하세요."
   ]
  },
  {
   "cell_type": "code",
   "execution_count": 7,
   "id": "5122eb87",
   "metadata": {},
   "outputs": [
    {
     "name": "stdout",
     "output_type": "stream",
     "text": [
      "문장을 입력하세요: hello python and jupyter\n",
      "자를 길이를 입력하세요: 3\n",
      "hel\n",
      "lo \n",
      "pyt\n",
      "hon\n",
      " an\n",
      "d j\n",
      "upy\n",
      "ter\n"
     ]
    }
   ],
   "source": [
    "input_sentence = input(\"문장을 입력하세요: \")\n",
    "cut_length = int(input(\"자를 길이를 입력하세요: \"))\n",
    "\n",
    "for i in range(0, len(input_sentence), cut_length):\n",
    "    print(input_sentence[i:i+cut_length])"
   ]
  },
  {
   "cell_type": "code",
   "execution_count": null,
   "id": "64465254",
   "metadata": {},
   "outputs": [],
   "source": []
  }
 ],
 "metadata": {
  "kernelspec": {
   "display_name": "Python 3 (ipykernel)",
   "language": "python",
   "name": "python3"
  },
  "language_info": {
   "codemirror_mode": {
    "name": "ipython",
    "version": 3
   },
   "file_extension": ".py",
   "mimetype": "text/x-python",
   "name": "python",
   "nbconvert_exporter": "python",
   "pygments_lexer": "ipython3",
   "version": "3.9.7"
  }
 },
 "nbformat": 4,
 "nbformat_minor": 5
}
