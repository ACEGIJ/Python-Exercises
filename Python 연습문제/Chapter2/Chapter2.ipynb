{
 "cells": [
  {
   "cell_type": "markdown",
   "id": "4830eaa8",
   "metadata": {},
   "source": [
    "# Chapter2"
   ]
  },
  {
   "cell_type": "markdown",
   "id": "bdf8e863",
   "metadata": {},
   "source": [
    "## 1. BMI 계산기:\n",
    "\n",
    "### 사용자로부터 몸무게(kg)와 키(m)를 입력받아 BMI(체질량 지수)를 계산하는 프로그램을 작성하세요. (BMI는 몸무게를 키의 제곱으로 나눈 값입니다.)"
   ]
  },
  {
   "cell_type": "code",
   "execution_count": 2,
   "id": "70a0ddb6",
   "metadata": {},
   "outputs": [
    {
     "name": "stdout",
     "output_type": "stream",
     "text": [
      "몸무게를 입력하세요 (kg): 68\n",
      "키를 입력하세요 (m): 1.8\n",
      "BMI: 20.98765432098765\n"
     ]
    }
   ],
   "source": []
  },
  {
   "cell_type": "markdown",
   "id": "498fc517",
   "metadata": {},
   "source": [
    "## 2. 세 개의 숫자 합 구하기:\n",
    "\n",
    "### 사용자로부터 세 개의 숫자를 입력받아 이를 더한 결과를 출력하는 프로그램을 작성하세요."
   ]
  },
  {
   "cell_type": "code",
   "execution_count": 3,
   "id": "293372f9",
   "metadata": {},
   "outputs": [
    {
     "name": "stdout",
     "output_type": "stream",
     "text": [
      "첫 번째 숫자를 입력하세요: 1\n",
      "두 번째 숫자를 입력하세요: 2\n",
      "세 번째 숫자를 입력하세요: 3\n",
      "세 숫자의 합: 6\n"
     ]
    }
   ],
   "source": []
  },
  {
   "cell_type": "markdown",
   "id": "f995be1f",
   "metadata": {},
   "source": [
    "## 3. 화씨-섭씨 온도 변환기:\n",
    "\n",
    "### 사용자로부터 온도를 입력받아, 이를 화씨에서 섭씨로 변환하는 프로그램을 작성하세요. (섭씨 = (화씨 - 32) * 5/9.)"
   ]
  },
  {
   "cell_type": "code",
   "execution_count": 6,
   "id": "9620d865",
   "metadata": {},
   "outputs": [
    {
     "name": "stdout",
     "output_type": "stream",
     "text": [
      "화씨 온도를 입력하세요: 212\n",
      "섭씨 온도: 100.0\n"
     ]
    }
   ],
   "source": []
  },
  {
   "cell_type": "markdown",
   "id": "f2d412d7",
   "metadata": {},
   "source": [
    "## 5. 나이 계산기:\n",
    "\n",
    "### 사용자로부터 출생 연도를 입력받아, 현재 나이를 계산하여 출력하는 프로그램을 작성하세요."
   ]
  },
  {
   "cell_type": "code",
   "execution_count": null,
   "id": "cd4d4370",
   "metadata": {},
   "outputs": [],
   "source": []
  },
  {
   "cell_type": "markdown",
   "id": "f1b8739a",
   "metadata": {},
   "source": [
    "## 4. 만나이 계산기:\n",
    "\n",
    "### 사용자로부터 나이 대신에 출생 연도와 월을 입력받아 현재 나이를 계산하여 출력하는 프로그램을 작성하세요."
   ]
  },
  {
   "cell_type": "code",
   "execution_count": 8,
   "id": "05e1666a",
   "metadata": {},
   "outputs": [
    {
     "name": "stdout",
     "output_type": "stream",
     "text": [
      "출생 연도를 입력하세요: 2000\n",
      "출생 월을 입력하세요: 1\n",
      "당신의 나이는 23 살입니다.\n"
     ]
    }
   ],
   "source": []
  },
  {
   "cell_type": "code",
   "execution_count": null,
   "id": "c484698d",
   "metadata": {},
   "outputs": [],
   "source": []
  }
 ],
 "metadata": {
  "kernelspec": {
   "display_name": "Python 3 (ipykernel)",
   "language": "python",
   "name": "python3"
  },
  "language_info": {
   "codemirror_mode": {
    "name": "ipython",
    "version": 3
   },
   "file_extension": ".py",
   "mimetype": "text/x-python",
   "name": "python",
   "nbconvert_exporter": "python",
   "pygments_lexer": "ipython3",
   "version": "3.9.7"
  }
 },
 "nbformat": 4,
 "nbformat_minor": 5
}
