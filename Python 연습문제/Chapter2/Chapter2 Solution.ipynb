{
 "cells": [
  {
   "cell_type": "markdown",
   "id": "9c4fc654",
   "metadata": {},
   "source": [
    "# Chapter2 Solution"
   ]
  },
  {
   "cell_type": "markdown",
   "id": "c96e7230",
   "metadata": {},
   "source": [
    "## 1. BMI 계산기:\n",
    "\n",
    "### 사용자로부터 몸무게(kg)와 키(m)를 입력받아 BMI(체질량 지수)를 계산하는 프로그램을 작성하세요. (BMI는 몸무게를 키의 제곱으로 나눈 값입니다.)"
   ]
  },
  {
   "cell_type": "code",
   "execution_count": 2,
   "id": "4ecf2861",
   "metadata": {},
   "outputs": [
    {
     "name": "stdout",
     "output_type": "stream",
     "text": [
      "몸무게를 입력하세요 (kg): 68\n",
      "키를 입력하세요 (m): 1.8\n",
      "BMI: 20.98765432098765\n"
     ]
    }
   ],
   "source": [
    "weight = float(input(\"몸무게를 입력하세요 (kg): \"))\n",
    "height = float(input(\"키를 입력하세요 (m): \"))\n",
    "\n",
    "bmi = weight / (height ** 2)\n",
    "print(\"BMI:\", bmi)"
   ]
  },
  {
   "cell_type": "markdown",
   "id": "3d5febe0",
   "metadata": {},
   "source": [
    "## 2. 세 개의 숫자 합 구하기:\n",
    "\n",
    "### 사용자로부터 세 개의 숫자를 입력받아 이를 더한 결과를 출력하는 프로그램을 작성하세요."
   ]
  },
  {
   "cell_type": "code",
   "execution_count": 3,
   "id": "5e7476f5",
   "metadata": {},
   "outputs": [
    {
     "name": "stdout",
     "output_type": "stream",
     "text": [
      "첫 번째 숫자를 입력하세요: 1\n",
      "두 번째 숫자를 입력하세요: 2\n",
      "세 번째 숫자를 입력하세요: 3\n",
      "세 숫자의 합: 6\n"
     ]
    }
   ],
   "source": [
    "num1 = int(input(\"첫 번째 숫자를 입력하세요: \"))\n",
    "num2 = int(input(\"두 번째 숫자를 입력하세요: \"))\n",
    "num3 = int(input(\"세 번째 숫자를 입력하세요: \"))\n",
    "\n",
    "total = num1 + num2 + num3\n",
    "print(\"세 숫자의 합:\", total)"
   ]
  },
  {
   "cell_type": "markdown",
   "id": "8cbb4ae3",
   "metadata": {},
   "source": [
    "## 3. 화씨-섭씨 온도 변환기:\n",
    "\n",
    "### 사용자로부터 온도를 입력받아, 이를 화씨에서 섭씨로 변환하는 프로그램을 작성하세요. (섭씨 = (화씨 - 32) * 5/9.)"
   ]
  },
  {
   "cell_type": "code",
   "execution_count": 6,
   "id": "08333ef7",
   "metadata": {},
   "outputs": [
    {
     "name": "stdout",
     "output_type": "stream",
     "text": [
      "화씨 온도를 입력하세요: 212\n",
      "섭씨 온도: 100.0\n"
     ]
    }
   ],
   "source": [
    "fahrenheit = float(input(\"화씨 온도를 입력하세요: \"))\n",
    "celsius = (fahrenheit - 32) * 5/9\n",
    "print(\"섭씨 온도:\", celsius)"
   ]
  },
  {
   "cell_type": "markdown",
   "id": "a0130e0c",
   "metadata": {},
   "source": [
    "## 4. 나이 계산기:\n",
    "\n",
    "### 사용자로부터 출생 연도를 입력받아, 현재 나이를 계산하여 출력하는 프로그램을 작성하세요."
   ]
  },
  {
   "cell_type": "code",
   "execution_count": 11,
   "id": "7d6f7ac0",
   "metadata": {},
   "outputs": [
    {
     "name": "stdout",
     "output_type": "stream",
     "text": [
      "출생 연도를 입력하세요: 2000\n",
      "당신의 나이는 24 살입니다.\n"
     ]
    }
   ],
   "source": [
    "birth_year = int(input(\"출생 연도를 입력하세요: \"))\n",
    "current_year = 2023  # 현재 연도로 가정\n",
    "age = current_year - birth_year+1\n",
    "print(\"당신의 나이는\", age, \"살입니다.\")"
   ]
  },
  {
   "cell_type": "markdown",
   "id": "53f74f02",
   "metadata": {},
   "source": [
    "## 5. 만나이 계산기:\n",
    "\n",
    "### 사용자로부터 나이 대신에 출생 연도와 월을 입력받아 현재 나이를 계산하여 출력하는 프로그램을 작성하세요."
   ]
  },
  {
   "cell_type": "code",
   "execution_count": 8,
   "id": "7b1bf01c",
   "metadata": {},
   "outputs": [
    {
     "name": "stdout",
     "output_type": "stream",
     "text": [
      "출생 연도를 입력하세요: 2000\n",
      "출생 월을 입력하세요: 1\n",
      "당신의 나이는 23 살입니다.\n"
     ]
    }
   ],
   "source": [
    "birth_year = int(input(\"출생 연도를 입력하세요: \"))\n",
    "birth_month = int(input(\"출생 월을 입력하세요: \"))\n",
    "\n",
    "current_year = 2023  # 현재 연도로 가정\n",
    "current_month = 11  # 현재 월로 가정\n",
    "\n",
    "age = current_year - birth_year - (1 if current_month < birth_month else 0)\n",
    "print(\"당신의 나이는\", age, \"살입니다.\")"
   ]
  },
  {
   "cell_type": "code",
   "execution_count": null,
   "id": "7ff53947",
   "metadata": {},
   "outputs": [],
   "source": []
  }
 ],
 "metadata": {
  "kernelspec": {
   "display_name": "Python 3 (ipykernel)",
   "language": "python",
   "name": "python3"
  },
  "language_info": {
   "codemirror_mode": {
    "name": "ipython",
    "version": 3
   },
   "file_extension": ".py",
   "mimetype": "text/x-python",
   "name": "python",
   "nbconvert_exporter": "python",
   "pygments_lexer": "ipython3",
   "version": "3.9.7"
  }
 },
 "nbformat": 4,
 "nbformat_minor": 5
}
