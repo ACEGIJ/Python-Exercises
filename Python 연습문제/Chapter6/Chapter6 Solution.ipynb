{
 "cells": [
  {
   "cell_type": "markdown",
   "id": "814a10c6",
   "metadata": {},
   "source": [
    "# Chapter6 Solution"
   ]
  },
  {
   "cell_type": "markdown",
   "id": "19fbf1c5",
   "metadata": {},
   "source": [
    "## 1. 리스트 합계 계산:\n",
    "\n",
    "### 숫자로 이루어진 리스트를 입력받아 그 합을 계산하여 출력하는 프로그램을 작성하세요."
   ]
  },
  {
   "cell_type": "code",
   "execution_count": 1,
   "id": "40d77ef2",
   "metadata": {},
   "outputs": [
    {
     "name": "stdout",
     "output_type": "stream",
     "text": [
      "리스트 합계: 15\n"
     ]
    }
   ],
   "source": [
    "numbers = [1, 2, 3, 4, 5]\n",
    "total = sum(numbers)\n",
    "print(\"리스트 합계:\", total)"
   ]
  },
  {
   "cell_type": "markdown",
   "id": "6bddd609",
   "metadata": {},
   "source": [
    "## 2. 리스트 중복 제거:\n",
    "\n",
    "### 숫자로 이루어진 리스트를 입력받아 중복된 숫자를 제거하고, 중복 제거된 새로운 리스트를 출력하는 프로그램을 작성하세요."
   ]
  },
  {
   "cell_type": "code",
   "execution_count": 2,
   "id": "914f32c2",
   "metadata": {},
   "outputs": [
    {
     "name": "stdout",
     "output_type": "stream",
     "text": [
      "중복 제거된 리스트: [1, 2, 3, 4, 5]\n"
     ]
    }
   ],
   "source": [
    "numbers = [1, 2, 2, 3, 4, 4, 5]\n",
    "unique_numbers = list(set(numbers))\n",
    "print(\"중복 제거된 리스트:\", unique_numbers)"
   ]
  },
  {
   "cell_type": "markdown",
   "id": "457c0c8f",
   "metadata": {},
   "source": [
    "## 3.딕셔너리 값 덧셈:\n",
    "\n",
    "### 숫자로 이루어진 딕셔너리를 입력받아 그 값들의 합을 계산하여 출력하는 프로그램을 작성하세요."
   ]
  },
  {
   "cell_type": "code",
   "execution_count": 3,
   "id": "6df48552",
   "metadata": {},
   "outputs": [
    {
     "name": "stdout",
     "output_type": "stream",
     "text": [
      "딕셔너리 값의 합: 60\n"
     ]
    }
   ],
   "source": [
    "my_dict = {'a': 10, 'b': 20, 'c': 30}\n",
    "total_values = sum(my_dict.values())\n",
    "print(\"딕셔너리 값의 합:\", total_values)"
   ]
  },
  {
   "cell_type": "markdown",
   "id": "0c597d66",
   "metadata": {},
   "source": [
    "## 4. 리스트 정렬:\n",
    "\n",
    "### 숫자로 이루어진 리스트를 입력받아 오름차순으로 정렬한 새로운 리스트를 출력하는 프로그램을 작성하세요"
   ]
  },
  {
   "cell_type": "code",
   "execution_count": 4,
   "id": "58c6852f",
   "metadata": {},
   "outputs": [
    {
     "name": "stdout",
     "output_type": "stream",
     "text": [
      "오름차순 정렬된 리스트: [1, 2, 3, 5, 8]\n"
     ]
    }
   ],
   "source": [
    "numbers = [5, 2, 8, 1, 3]\n",
    "sorted_numbers = sorted(numbers)\n",
    "print(\"오름차순 정렬된 리스트:\", sorted_numbers)"
   ]
  },
  {
   "cell_type": "markdown",
   "id": "15afcf07",
   "metadata": {},
   "source": [
    "## 5. 딕셔너리 키 정렬:\n",
    "\n",
    "### 문자열 키와 숫자 값으로 이루어진 딕셔너리를 입력받아 키를 오름차순으로 정렬하고, 정렬된 키에 해당하는 값을 출력하는 프로그램을 작성하세요."
   ]
  },
  {
   "cell_type": "code",
   "execution_count": 5,
   "id": "089f02e3",
   "metadata": {},
   "outputs": [
    {
     "name": "stdout",
     "output_type": "stream",
     "text": [
      "apple: 1\n",
      "banana: 3\n",
      "orange: 2\n"
     ]
    }
   ],
   "source": [
    "my_dict = {'banana': 3, 'apple': 1, 'orange': 2}\n",
    "sorted_keys = sorted(my_dict.keys())\n",
    "for key in sorted_keys:\n",
    "    print(f\"{key}: {my_dict[key]}\")"
   ]
  },
  {
   "cell_type": "code",
   "execution_count": null,
   "id": "28938517",
   "metadata": {},
   "outputs": [],
   "source": []
  }
 ],
 "metadata": {
  "kernelspec": {
   "display_name": "Python 3 (ipykernel)",
   "language": "python",
   "name": "python3"
  },
  "language_info": {
   "codemirror_mode": {
    "name": "ipython",
    "version": 3
   },
   "file_extension": ".py",
   "mimetype": "text/x-python",
   "name": "python",
   "nbconvert_exporter": "python",
   "pygments_lexer": "ipython3",
   "version": "3.9.7"
  }
 },
 "nbformat": 4,
 "nbformat_minor": 5
}
