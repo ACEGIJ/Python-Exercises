{
 "cells": [
  {
   "cell_type": "markdown",
   "id": "398029a4",
   "metadata": {},
   "source": [
    "# Chapter1 Solution\n"
   ]
  },
  {
   "cell_type": "markdown",
   "id": "4cece622",
   "metadata": {},
   "source": [
    "## 1. Hello World 출력하기"
   ]
  },
  {
   "cell_type": "code",
   "execution_count": 1,
   "id": "7171bc3d",
   "metadata": {},
   "outputs": [
    {
     "name": "stdout",
     "output_type": "stream",
     "text": [
      "Hello World\n"
     ]
    }
   ],
   "source": [
    "print('Hello World')"
   ]
  },
  {
   "cell_type": "markdown",
   "id": "00626204",
   "metadata": {},
   "source": [
    "## 2. 문자열 합치기:\n",
    "\n",
    "### Hello와 World를 각각 만들고 합치세요."
   ]
  },
  {
   "cell_type": "code",
   "execution_count": 4,
   "id": "f971cc12",
   "metadata": {},
   "outputs": [
    {
     "name": "stdout",
     "output_type": "stream",
     "text": [
      "Hello World\n"
     ]
    }
   ],
   "source": [
    "a = \"Hello\"\n",
    "b = \"World\"\n",
    "print(a , b)"
   ]
  },
  {
   "cell_type": "markdown",
   "id": "c7e6bd8a",
   "metadata": {},
   "source": [
    "## 3. 문자 입력받기:\n",
    "\n",
    "### 사용자로부터 이름을 입력받아 \"Hello, [이름]!\"를 출력하는 프로그램을 작성하세요."
   ]
  },
  {
   "cell_type": "code",
   "execution_count": 5,
   "id": "202230b6",
   "metadata": {},
   "outputs": [
    {
     "name": "stdout",
     "output_type": "stream",
     "text": [
      "이름을 입력하세요: NoName\n",
      "Hello, NoName!\n"
     ]
    }
   ],
   "source": [
    "name = input(\"이름을 입력하세요: \")\n",
    "print(\"Hello, \" + name + \"!\")"
   ]
  },
  {
   "cell_type": "markdown",
   "id": "6c4e55c1",
   "metadata": {},
   "source": [
    "## 4. 인사말 프로그램:\n",
    "\n",
    "### 사용자로부터 이름, 성별, 나이를 입력받아 인사말을 출력하는 프로그램을 작성하세요. (\"안녕하세요, [나이]살 [성별]  [이름]님!\")"
   ]
  },
  {
   "cell_type": "code",
   "execution_count": 11,
   "id": "499009a9",
   "metadata": {},
   "outputs": [
    {
     "name": "stdout",
     "output_type": "stream",
     "text": [
      "이름을 입력하세요: abc\n",
      "성별을 입력하세요: 남자\n",
      "나이를 입력하세요: 20\n",
      "안녕하세요, 20살 남자 abc님!\n"
     ]
    }
   ],
   "source": [
    "name = input(\"이름을 입력하세요: \")\n",
    "gender = input(\"성별을 입력하세요: \")\n",
    "age = input(\"나이를 입력하세요: \")\n",
    "\n",
    "print(f\"안녕하세요, {age}살 {gender} {name}님!\")"
   ]
  },
  {
   "cell_type": "markdown",
   "id": "30676ac9",
   "metadata": {},
   "source": [
    "## 5. 이중 출력:\n",
    "\n",
    "### 사용자로부터 두 개의 이름을 입력받아, 각각에 대한 \"Hello, [이름]!\" 메시지를 출력하는 프로그램을 작성하세요."
   ]
  },
  {
   "cell_type": "code",
   "execution_count": 13,
   "id": "6ec29ebf",
   "metadata": {},
   "outputs": [
    {
     "name": "stdout",
     "output_type": "stream",
     "text": [
      "첫 번째 이름을 입력하세요: first\n",
      "두 번째 이름을 입력하세요: second\n",
      "Hello, first!\n",
      "Hello, second!\n"
     ]
    }
   ],
   "source": [
    "name1 = input(\"첫 번째 이름을 입력하세요: \")\n",
    "name2 = input(\"두 번째 이름을 입력하세요: \")\n",
    "\n",
    "print(\"Hello, \" + name1 + \"!\")\n",
    "print(\"Hello, \" + name2 + \"!\")"
   ]
  },
  {
   "cell_type": "code",
   "execution_count": null,
   "id": "832d47e8",
   "metadata": {},
   "outputs": [],
   "source": []
  }
 ],
 "metadata": {
  "kernelspec": {
   "display_name": "Python 3 (ipykernel)",
   "language": "python",
   "name": "python3"
  },
  "language_info": {
   "codemirror_mode": {
    "name": "ipython",
    "version": 3
   },
   "file_extension": ".py",
   "mimetype": "text/x-python",
   "name": "python",
   "nbconvert_exporter": "python",
   "pygments_lexer": "ipython3",
   "version": "3.9.7"
  }
 },
 "nbformat": 4,
 "nbformat_minor": 5
}
