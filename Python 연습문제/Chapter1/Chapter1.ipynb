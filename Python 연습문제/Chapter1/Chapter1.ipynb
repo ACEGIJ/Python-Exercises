{
 "cells": [
  {
   "cell_type": "markdown",
   "id": "133137b5",
   "metadata": {},
   "source": [
    "# Chapter1"
   ]
  },
  {
   "cell_type": "markdown",
   "id": "7d31b231",
   "metadata": {},
   "source": [
    "## 1. Hello World 출력하기"
   ]
  },
  {
   "cell_type": "code",
   "execution_count": null,
   "id": "1e7dba8a",
   "metadata": {},
   "outputs": [],
   "source": []
  },
  {
   "cell_type": "markdown",
   "id": "c8f052f1",
   "metadata": {},
   "source": [
    "## 2. 문자열 합치기:\n",
    "\n",
    "### Hello와 World를 각각 만들고 합치세요."
   ]
  },
  {
   "cell_type": "code",
   "execution_count": null,
   "id": "45fd4647",
   "metadata": {},
   "outputs": [],
   "source": []
  },
  {
   "cell_type": "markdown",
   "id": "05ddb839",
   "metadata": {},
   "source": [
    "## 3. 문자 입력받기:\n",
    "\n",
    "### 사용자로부터 이름을 입력받아 \"Hello, [이름]!\"를 출력하는 프로그램을 작성하세요."
   ]
  },
  {
   "cell_type": "code",
   "execution_count": null,
   "id": "86e01d19",
   "metadata": {},
   "outputs": [],
   "source": []
  },
  {
   "cell_type": "markdown",
   "id": "3593b03d",
   "metadata": {},
   "source": [
    "## 4. 인사말 프로그램:\n",
    "\n",
    "### 사용자로부터 이름, 성별, 나이를 입력받아 인사말을 출력하는 프로그램을 작성하세요. (\"안녕하세요, [나이]살 [성별]  [이름]님!\")"
   ]
  },
  {
   "cell_type": "code",
   "execution_count": null,
   "id": "ea2eb00c",
   "metadata": {},
   "outputs": [],
   "source": []
  },
  {
   "cell_type": "markdown",
   "id": "77047b34",
   "metadata": {},
   "source": []
  },
  {
   "cell_type": "code",
   "execution_count": null,
   "id": "1efb9151",
   "metadata": {},
   "outputs": [],
   "source": []
  }
 ],
 "metadata": {
  "kernelspec": {
   "display_name": "Python 3 (ipykernel)",
   "language": "python",
   "name": "python3"
  },
  "language_info": {
   "codemirror_mode": {
    "name": "ipython",
    "version": 3
   },
   "file_extension": ".py",
   "mimetype": "text/x-python",
   "name": "python",
   "nbconvert_exporter": "python",
   "pygments_lexer": "ipython3",
   "version": "3.9.7"
  }
 },
 "nbformat": 4,
 "nbformat_minor": 5
}
