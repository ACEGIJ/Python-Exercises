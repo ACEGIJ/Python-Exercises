{
 "cells": [
  {
   "cell_type": "markdown",
   "id": "10a243b1",
   "metadata": {},
   "source": [
    "# Chapter3 Solution"
   ]
  },
  {
   "cell_type": "markdown",
   "id": "22a00c8a",
   "metadata": {},
   "source": [
    "## 1. 짝수/홀수 판별기:\n",
    "\n",
    "### 사용자로부터 숫자를 입력받아, 그 숫자가 짝수인지 홀수인지를 판별하여 출력하는 프로그램을 작성하세요."
   ]
  },
  {
   "cell_type": "code",
   "execution_count": 1,
   "id": "3c87b7ec",
   "metadata": {},
   "outputs": [
    {
     "name": "stdout",
     "output_type": "stream",
     "text": [
      "숫자를 입력하세요: 20\n",
      "짝수입니다.\n"
     ]
    }
   ],
   "source": [
    "number = int(input(\"숫자를 입력하세요: \"))\n",
    "\n",
    "if number % 2 == 0:\n",
    "    print(\"짝수입니다.\")\n",
    "else:\n",
    "    print(\"홀수입니다.\")"
   ]
  },
  {
   "cell_type": "markdown",
   "id": "9fe56149",
   "metadata": {},
   "source": [
    "## 2. 구구단 출력:\n",
    "\n",
    "### 사용자로부터 구구단의 단을 입력받아 해당 단을 출력하는 프로그램을 작성하세요."
   ]
  },
  {
   "cell_type": "code",
   "execution_count": 2,
   "id": "986c190a",
   "metadata": {},
   "outputs": [
    {
     "name": "stdout",
     "output_type": "stream",
     "text": [
      "구구단의 단을 입력하세요: 4\n",
      "4 x 1 = 4\n",
      "4 x 2 = 8\n",
      "4 x 3 = 12\n",
      "4 x 4 = 16\n",
      "4 x 5 = 20\n",
      "4 x 6 = 24\n",
      "4 x 7 = 28\n",
      "4 x 8 = 32\n",
      "4 x 9 = 36\n"
     ]
    }
   ],
   "source": [
    "dan = int(input(\"구구단의 단을 입력하세요: \"))\n",
    "\n",
    "for i in range(1, 10):\n",
    "    print(f\"{dan} x {i} = {dan * i}\")"
   ]
  },
  {
   "cell_type": "markdown",
   "id": "93bc6dcd",
   "metadata": {},
   "source": [
    "## 3. 1부터 100까지의 합:\n",
    "\n",
    "### 1부터 100까지의 모든 정수의 합을 계산하여 출력하는 프로그램을 작성하세요."
   ]
  },
  {
   "cell_type": "code",
   "execution_count": 3,
   "id": "e8417a67",
   "metadata": {},
   "outputs": [
    {
     "name": "stdout",
     "output_type": "stream",
     "text": [
      "1부터 100까지의 합: 5050\n"
     ]
    }
   ],
   "source": [
    "total = 0\n",
    "\n",
    "for i in range(1, 101):\n",
    "    total += i\n",
    "\n",
    "print(\"1부터 100까지의 합:\", total)"
   ]
  },
  {
   "cell_type": "markdown",
   "id": "95fcf362",
   "metadata": {},
   "source": [
    "## 4. 숫자 맞추기 게임:\n",
    "\n",
    "### 프로그램이 1부터 100 사이의 임의의 숫자를 선택하고, 사용자가 그 숫자를 맞추는 게임을 만들어보세요. 맞출 때까지 사용자에게 힌트를 주어야 합니다. (random 라이브러리 사용)"
   ]
  },
  {
   "cell_type": "code",
   "execution_count": 4,
   "id": "d4b73dfb",
   "metadata": {},
   "outputs": [
    {
     "name": "stdout",
     "output_type": "stream",
     "text": [
      "1부터 100 사이의 숫자를 추측해보세요: 50\n",
      "좀 더 작은 수를 추측해보세요.\n",
      "1부터 100 사이의 숫자를 추측해보세요: 25\n",
      "좀 더 큰 수를 추측해보세요.\n",
      "1부터 100 사이의 숫자를 추측해보세요: 40\n",
      "좀 더 큰 수를 추측해보세요.\n",
      "1부터 100 사이의 숫자를 추측해보세요: 45\n",
      "좀 더 작은 수를 추측해보세요.\n",
      "1부터 100 사이의 숫자를 추측해보세요: 43\n",
      "좀 더 작은 수를 추측해보세요.\n",
      "1부터 100 사이의 숫자를 추측해보세요: 42\n",
      "좀 더 작은 수를 추측해보세요.\n",
      "1부터 100 사이의 숫자를 추측해보세요: 41\n",
      "정답입니다!\n"
     ]
    }
   ],
   "source": [
    "import random\n",
    "\n",
    "target_number = random.randint(1, 100)\n",
    "\n",
    "while True:\n",
    "    guess = int(input(\"1부터 100 사이의 숫자를 추측해보세요: \"))\n",
    "\n",
    "    if guess == target_number:\n",
    "        print(\"정답입니다!\")\n",
    "        break\n",
    "    elif guess < target_number:\n",
    "        print(\"좀 더 큰 수를 추측해보세요.\")\n",
    "    else:\n",
    "        print(\"좀 더 작은 수를 추측해보세요.\")"
   ]
  },
  {
   "cell_type": "markdown",
   "id": "06bca7f5",
   "metadata": {},
   "source": [
    "## 5. 숫자 맞추기 게임 (횟수 제한):\n",
    "### 프로그램이 1부터 100 사이의 임의의 숫자를 선택하고, 사용자에게 그 숫자를 맞추는 게임을 만들어보세요. 단, 사용자는 최대 5번의 시도만 가능하며, 각 시도마다 정답 여부와 남은 시도 횟수를 알려줘야 합니다."
   ]
  },
  {
   "cell_type": "code",
   "execution_count": null,
   "id": "04e05f14",
   "metadata": {},
   "outputs": [],
   "source": [
    "import random\n",
    "\n",
    "target_number = random.randint(1, 100)\n",
    "remaining_attempts = 5\n",
    "\n",
    "while remaining_attempts > 0:\n",
    "    guess = int(input(f\"1부터 100 사이의 숫자를 추측해보세요 (남은 시도: {remaining_attempts}회): \"))\n",
    "\n",
    "    if guess == target_number:\n",
    "        print(\"정답입니다!\")\n",
    "        break\n",
    "    elif guess < target_number:\n",
    "        print(\"좀 더 큰 수를 추측해보세요.\")\n",
    "    else:\n",
    "        print(\"좀 더 작은 수를 추측해보세요.\")\n",
    "\n",
    "    remaining_attempts -= 1\n",
    "\n",
    "if remaining_attempts == 0:\n",
    "    print(f\"시도 횟수를 모두 사용하였습니다. 정답은 {target_number}입니다.\")"
   ]
  },
  {
   "cell_type": "code",
   "execution_count": null,
   "id": "fe48467c",
   "metadata": {},
   "outputs": [],
   "source": []
  }
 ],
 "metadata": {
  "kernelspec": {
   "display_name": "Python 3 (ipykernel)",
   "language": "python",
   "name": "python3"
  },
  "language_info": {
   "codemirror_mode": {
    "name": "ipython",
    "version": 3
   },
   "file_extension": ".py",
   "mimetype": "text/x-python",
   "name": "python",
   "nbconvert_exporter": "python",
   "pygments_lexer": "ipython3",
   "version": "3.9.7"
  }
 },
 "nbformat": 4,
 "nbformat_minor": 5
}
